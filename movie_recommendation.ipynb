{
 "cells": [
  {
   "cell_type": "markdown",
   "id": "244f04ed-e2db-4d3d-9990-b3a2d93c6dd9",
   "metadata": {},
   "source": [
    "MOST WATCHED NETFLIX ORIGINAL SHOWS\n",
    "\n",
    "Revealing the Global Phenomenon: A Deep Dive into IMDb Data on Most-Watched Netflix Original Shows , This file consists of data from Imdb stating the most watched Netflix original shows globally. This contains columns which tells us the timing of the each episode or in total, rating, genre and number of votes given to each of them."
   ]
  },
  {
   "cell_type": "code",
   "execution_count": 2,
   "id": "34d14dc0-4947-4db7-b467-5d57dd9f88e9",
   "metadata": {},
   "outputs": [],
   "source": [
    "import numpy as np\n",
    "import pandas as pd\n",
    "import matplotlib.pyplot as plt\n",
    "import seaborn as sns"
   ]
  },
  {
   "cell_type": "code",
   "execution_count": 3,
   "id": "a80d039d-0691-404f-bfda-95392dd02ee3",
   "metadata": {},
   "outputs": [],
   "source": [
    "df=pd.read_csv(r\"C:\\Users\\sujal bajaj\\Downloads\\imdb.csv\")"
   ]
  },
  {
   "cell_type": "code",
   "execution_count": 4,
   "id": "1df4783e-47d8-488b-a291-e5291a33edad",
   "metadata": {},
   "outputs": [
    {
     "name": "stdout",
     "output_type": "stream",
     "text": [
      "    lister-item-index       lister-item-header certificate runtime  \\\n",
      "0                 1.0          Stranger Things          15  60 min   \n",
      "1                 2.0           13 Reasons Why          18  60 min   \n",
      "2                 3.0  Orange Is the New Black          18  59 min   \n",
      "3                 4.0             Black Mirror          18  60 min   \n",
      "4                 5.0              Money Heist          15  60 min   \n",
      "..                ...                      ...         ...     ...   \n",
      "75               76.0          F Is for Family          15  30 min   \n",
      "76               77.0                The Ranch          15  30 min   \n",
      "77               78.0          American Vandal          15  34 min   \n",
      "78               79.0               Dead to Me          15  30 min   \n",
      "79               80.0                Quicksand          18  45 min   \n",
      "\n",
      "                       genre  rating      votes  \n",
      "0     Drama, Fantasy, Horror     8.7  1,327,188  \n",
      "1   Drama, Mystery, Thriller     7.5    314,321  \n",
      "2       Comedy, Crime, Drama     8.0    319,342  \n",
      "3     Drama, Mystery, Sci-Fi     8.7    636,319  \n",
      "4       Action, Crime, Drama     8.2    529,086  \n",
      "..                       ...     ...        ...  \n",
      "75  Animation, Comedy, Drama     8.0     41,074  \n",
      "76    Comedy, Drama, Western     7.5     42,401  \n",
      "77      Comedy, Crime, Drama     8.1     32,985  \n",
      "78      Comedy, Crime, Drama     7.9     99,440  \n",
      "79     Crime, Drama, Mystery     7.4     25,507  \n",
      "\n",
      "[80 rows x 7 columns]\n"
     ]
    }
   ],
   "source": [
    "print(df)"
   ]
  },
  {
   "cell_type": "code",
   "execution_count": 5,
   "id": "cfb9c125-f768-40ae-a9f0-b96315caabb8",
   "metadata": {},
   "outputs": [
    {
     "data": {
      "text/plain": [
       "(80, 7)"
      ]
     },
     "execution_count": 5,
     "metadata": {},
     "output_type": "execute_result"
    }
   ],
   "source": [
    "df.shape"
   ]
  },
  {
   "cell_type": "code",
   "execution_count": 6,
   "id": "126f4026-3e15-49bb-be4c-09f0c4ba6a2d",
   "metadata": {},
   "outputs": [
    {
     "data": {
      "text/html": [
       "<div>\n",
       "<style scoped>\n",
       "    .dataframe tbody tr th:only-of-type {\n",
       "        vertical-align: middle;\n",
       "    }\n",
       "\n",
       "    .dataframe tbody tr th {\n",
       "        vertical-align: top;\n",
       "    }\n",
       "\n",
       "    .dataframe thead th {\n",
       "        text-align: right;\n",
       "    }\n",
       "</style>\n",
       "<table border=\"1\" class=\"dataframe\">\n",
       "  <thead>\n",
       "    <tr style=\"text-align: right;\">\n",
       "      <th></th>\n",
       "      <th>lister-item-index</th>\n",
       "      <th>lister-item-header</th>\n",
       "      <th>certificate</th>\n",
       "      <th>runtime</th>\n",
       "      <th>genre</th>\n",
       "      <th>rating</th>\n",
       "      <th>votes</th>\n",
       "    </tr>\n",
       "  </thead>\n",
       "  <tbody>\n",
       "    <tr>\n",
       "      <th>0</th>\n",
       "      <td>1.0</td>\n",
       "      <td>Stranger Things</td>\n",
       "      <td>15</td>\n",
       "      <td>60 min</td>\n",
       "      <td>Drama, Fantasy, Horror</td>\n",
       "      <td>8.7</td>\n",
       "      <td>1,327,188</td>\n",
       "    </tr>\n",
       "    <tr>\n",
       "      <th>1</th>\n",
       "      <td>2.0</td>\n",
       "      <td>13 Reasons Why</td>\n",
       "      <td>18</td>\n",
       "      <td>60 min</td>\n",
       "      <td>Drama, Mystery, Thriller</td>\n",
       "      <td>7.5</td>\n",
       "      <td>314,321</td>\n",
       "    </tr>\n",
       "    <tr>\n",
       "      <th>2</th>\n",
       "      <td>3.0</td>\n",
       "      <td>Orange Is the New Black</td>\n",
       "      <td>18</td>\n",
       "      <td>59 min</td>\n",
       "      <td>Comedy, Crime, Drama</td>\n",
       "      <td>8.0</td>\n",
       "      <td>319,342</td>\n",
       "    </tr>\n",
       "    <tr>\n",
       "      <th>3</th>\n",
       "      <td>4.0</td>\n",
       "      <td>Black Mirror</td>\n",
       "      <td>18</td>\n",
       "      <td>60 min</td>\n",
       "      <td>Drama, Mystery, Sci-Fi</td>\n",
       "      <td>8.7</td>\n",
       "      <td>636,319</td>\n",
       "    </tr>\n",
       "    <tr>\n",
       "      <th>4</th>\n",
       "      <td>5.0</td>\n",
       "      <td>Money Heist</td>\n",
       "      <td>15</td>\n",
       "      <td>60 min</td>\n",
       "      <td>Action, Crime, Drama</td>\n",
       "      <td>8.2</td>\n",
       "      <td>529,086</td>\n",
       "    </tr>\n",
       "  </tbody>\n",
       "</table>\n",
       "</div>"
      ],
      "text/plain": [
       "   lister-item-index       lister-item-header certificate runtime  \\\n",
       "0                1.0          Stranger Things          15  60 min   \n",
       "1                2.0           13 Reasons Why          18  60 min   \n",
       "2                3.0  Orange Is the New Black          18  59 min   \n",
       "3                4.0             Black Mirror          18  60 min   \n",
       "4                5.0              Money Heist          15  60 min   \n",
       "\n",
       "                      genre  rating      votes  \n",
       "0    Drama, Fantasy, Horror     8.7  1,327,188  \n",
       "1  Drama, Mystery, Thriller     7.5    314,321  \n",
       "2      Comedy, Crime, Drama     8.0    319,342  \n",
       "3    Drama, Mystery, Sci-Fi     8.7    636,319  \n",
       "4      Action, Crime, Drama     8.2    529,086  "
      ]
     },
     "execution_count": 6,
     "metadata": {},
     "output_type": "execute_result"
    }
   ],
   "source": [
    "df.head()"
   ]
  },
  {
   "cell_type": "code",
   "execution_count": 7,
   "id": "b09deab1-48fb-4088-b16b-2b0f9641c6ff",
   "metadata": {},
   "outputs": [
    {
     "data": {
      "text/html": [
       "<div>\n",
       "<style scoped>\n",
       "    .dataframe tbody tr th:only-of-type {\n",
       "        vertical-align: middle;\n",
       "    }\n",
       "\n",
       "    .dataframe tbody tr th {\n",
       "        vertical-align: top;\n",
       "    }\n",
       "\n",
       "    .dataframe thead th {\n",
       "        text-align: right;\n",
       "    }\n",
       "</style>\n",
       "<table border=\"1\" class=\"dataframe\">\n",
       "  <thead>\n",
       "    <tr style=\"text-align: right;\">\n",
       "      <th></th>\n",
       "      <th>lister-item-index</th>\n",
       "      <th>lister-item-header</th>\n",
       "      <th>certificate</th>\n",
       "      <th>runtime</th>\n",
       "      <th>genre</th>\n",
       "      <th>rating</th>\n",
       "      <th>votes</th>\n",
       "    </tr>\n",
       "  </thead>\n",
       "  <tbody>\n",
       "    <tr>\n",
       "      <th>75</th>\n",
       "      <td>76.0</td>\n",
       "      <td>F Is for Family</td>\n",
       "      <td>15</td>\n",
       "      <td>30 min</td>\n",
       "      <td>Animation, Comedy, Drama</td>\n",
       "      <td>8.0</td>\n",
       "      <td>41,074</td>\n",
       "    </tr>\n",
       "    <tr>\n",
       "      <th>76</th>\n",
       "      <td>77.0</td>\n",
       "      <td>The Ranch</td>\n",
       "      <td>15</td>\n",
       "      <td>30 min</td>\n",
       "      <td>Comedy, Drama, Western</td>\n",
       "      <td>7.5</td>\n",
       "      <td>42,401</td>\n",
       "    </tr>\n",
       "    <tr>\n",
       "      <th>77</th>\n",
       "      <td>78.0</td>\n",
       "      <td>American Vandal</td>\n",
       "      <td>15</td>\n",
       "      <td>34 min</td>\n",
       "      <td>Comedy, Crime, Drama</td>\n",
       "      <td>8.1</td>\n",
       "      <td>32,985</td>\n",
       "    </tr>\n",
       "    <tr>\n",
       "      <th>78</th>\n",
       "      <td>79.0</td>\n",
       "      <td>Dead to Me</td>\n",
       "      <td>15</td>\n",
       "      <td>30 min</td>\n",
       "      <td>Comedy, Crime, Drama</td>\n",
       "      <td>7.9</td>\n",
       "      <td>99,440</td>\n",
       "    </tr>\n",
       "    <tr>\n",
       "      <th>79</th>\n",
       "      <td>80.0</td>\n",
       "      <td>Quicksand</td>\n",
       "      <td>18</td>\n",
       "      <td>45 min</td>\n",
       "      <td>Crime, Drama, Mystery</td>\n",
       "      <td>7.4</td>\n",
       "      <td>25,507</td>\n",
       "    </tr>\n",
       "  </tbody>\n",
       "</table>\n",
       "</div>"
      ],
      "text/plain": [
       "    lister-item-index lister-item-header certificate runtime  \\\n",
       "75               76.0    F Is for Family          15  30 min   \n",
       "76               77.0          The Ranch          15  30 min   \n",
       "77               78.0    American Vandal          15  34 min   \n",
       "78               79.0         Dead to Me          15  30 min   \n",
       "79               80.0          Quicksand          18  45 min   \n",
       "\n",
       "                       genre  rating   votes  \n",
       "75  Animation, Comedy, Drama     8.0  41,074  \n",
       "76    Comedy, Drama, Western     7.5  42,401  \n",
       "77      Comedy, Crime, Drama     8.1  32,985  \n",
       "78      Comedy, Crime, Drama     7.9  99,440  \n",
       "79     Crime, Drama, Mystery     7.4  25,507  "
      ]
     },
     "execution_count": 7,
     "metadata": {},
     "output_type": "execute_result"
    }
   ],
   "source": [
    "df.tail()"
   ]
  },
  {
   "cell_type": "code",
   "execution_count": 7,
   "id": "7daa5428-f076-48bf-b911-0b00637753fb",
   "metadata": {},
   "outputs": [],
   "source": [
    "df['lister-item-index'] = df['lister-item-index'].astype(int)"
   ]
  },
  {
   "cell_type": "code",
   "execution_count": 50,
   "id": "24d1ef53-fa62-458f-b999-2ebd2ed65fde",
   "metadata": {},
   "outputs": [
    {
     "name": "stdout",
     "output_type": "stream",
     "text": [
      "<class 'pandas.core.frame.DataFrame'>\n",
      "RangeIndex: 80 entries, 0 to 79\n",
      "Data columns (total 7 columns):\n",
      " #   Column              Non-Null Count  Dtype  \n",
      "---  ------              --------------  -----  \n",
      " 0   lister-item-index   80 non-null     int32  \n",
      " 1   lister-item-header  80 non-null     object \n",
      " 2   certificate         80 non-null     object \n",
      " 3   runtime             80 non-null     object \n",
      " 4   genre               80 non-null     object \n",
      " 5   rating              80 non-null     float64\n",
      " 6   votes               80 non-null     object \n",
      "dtypes: float64(1), int32(1), object(5)\n",
      "memory usage: 4.2+ KB\n"
     ]
    }
   ],
   "source": [
    "df.info()"
   ]
  },
  {
   "cell_type": "code",
   "execution_count": 51,
   "id": "51ab802a-baa2-4612-a70a-cc558f711a3b",
   "metadata": {},
   "outputs": [
    {
     "data": {
      "text/html": [
       "<div>\n",
       "<style scoped>\n",
       "    .dataframe tbody tr th:only-of-type {\n",
       "        vertical-align: middle;\n",
       "    }\n",
       "\n",
       "    .dataframe tbody tr th {\n",
       "        vertical-align: top;\n",
       "    }\n",
       "\n",
       "    .dataframe thead th {\n",
       "        text-align: right;\n",
       "    }\n",
       "</style>\n",
       "<table border=\"1\" class=\"dataframe\">\n",
       "  <thead>\n",
       "    <tr style=\"text-align: right;\">\n",
       "      <th></th>\n",
       "      <th>lister-item-index</th>\n",
       "      <th>lister-item-header</th>\n",
       "      <th>certificate</th>\n",
       "      <th>runtime</th>\n",
       "      <th>genre</th>\n",
       "      <th>rating</th>\n",
       "      <th>votes</th>\n",
       "    </tr>\n",
       "  </thead>\n",
       "  <tbody>\n",
       "    <tr>\n",
       "      <th>53</th>\n",
       "      <td>54</td>\n",
       "      <td>Dear White People</td>\n",
       "      <td>15</td>\n",
       "      <td>30 min</td>\n",
       "      <td>Comedy, Drama</td>\n",
       "      <td>6.4</td>\n",
       "      <td>26,364</td>\n",
       "    </tr>\n",
       "    <tr>\n",
       "      <th>12</th>\n",
       "      <td>13</td>\n",
       "      <td>Dark</td>\n",
       "      <td>15</td>\n",
       "      <td>60 min</td>\n",
       "      <td>Crime, Drama, Mystery</td>\n",
       "      <td>8.7</td>\n",
       "      <td>440,321</td>\n",
       "    </tr>\n",
       "    <tr>\n",
       "      <th>31</th>\n",
       "      <td>32</td>\n",
       "      <td>Altered Carbon</td>\n",
       "      <td>18</td>\n",
       "      <td>60 min</td>\n",
       "      <td>Action, Drama, Sci-Fi</td>\n",
       "      <td>7.9</td>\n",
       "      <td>187,859</td>\n",
       "    </tr>\n",
       "    <tr>\n",
       "      <th>75</th>\n",
       "      <td>76</td>\n",
       "      <td>F Is for Family</td>\n",
       "      <td>15</td>\n",
       "      <td>30 min</td>\n",
       "      <td>Animation, Comedy, Drama</td>\n",
       "      <td>8.0</td>\n",
       "      <td>41,074</td>\n",
       "    </tr>\n",
       "    <tr>\n",
       "      <th>72</th>\n",
       "      <td>73</td>\n",
       "      <td>Arrested Development</td>\n",
       "      <td>15</td>\n",
       "      <td>22 min</td>\n",
       "      <td>Comedy</td>\n",
       "      <td>8.7</td>\n",
       "      <td>323,189</td>\n",
       "    </tr>\n",
       "  </tbody>\n",
       "</table>\n",
       "</div>"
      ],
      "text/plain": [
       "    lister-item-index    lister-item-header certificate runtime  \\\n",
       "53                 54     Dear White People          15  30 min   \n",
       "12                 13                  Dark          15  60 min   \n",
       "31                 32        Altered Carbon          18  60 min   \n",
       "75                 76       F Is for Family          15  30 min   \n",
       "72                 73  Arrested Development          15  22 min   \n",
       "\n",
       "                       genre  rating    votes  \n",
       "53             Comedy, Drama     6.4   26,364  \n",
       "12     Crime, Drama, Mystery     8.7  440,321  \n",
       "31     Action, Drama, Sci-Fi     7.9  187,859  \n",
       "75  Animation, Comedy, Drama     8.0   41,074  \n",
       "72                    Comedy     8.7  323,189  "
      ]
     },
     "execution_count": 51,
     "metadata": {},
     "output_type": "execute_result"
    }
   ],
   "source": [
    "df.sample(5)"
   ]
  },
  {
   "cell_type": "code",
   "execution_count": 12,
   "id": "46f8515c-5eac-4839-92ed-6a161e70214f",
   "metadata": {},
   "outputs": [
    {
     "data": {
      "text/plain": [
       "lister-item-index     0\n",
       "lister-item-header    0\n",
       "certificate           0\n",
       "runtime               0\n",
       "genre                 0\n",
       "rating                0\n",
       "votes                 0\n",
       "dtype: int64"
      ]
     },
     "execution_count": 12,
     "metadata": {},
     "output_type": "execute_result"
    }
   ],
   "source": [
    "df.isna().sum()"
   ]
  },
  {
   "cell_type": "code",
   "execution_count": 13,
   "id": "cd518ef9-d2be-41c9-ab4a-14c8a4e75b30",
   "metadata": {},
   "outputs": [
    {
     "data": {
      "text/plain": [
       "0"
      ]
     },
     "execution_count": 13,
     "metadata": {},
     "output_type": "execute_result"
    }
   ],
   "source": [
    "df.duplicated().sum()"
   ]
  },
  {
   "cell_type": "code",
   "execution_count": 52,
   "id": "41e6a015-bbe6-46d0-80b2-654b17d9bd79",
   "metadata": {},
   "outputs": [
    {
     "data": {
      "text/plain": [
       "array(['15', '18', '12', 'PG'], dtype=object)"
      ]
     },
     "execution_count": 52,
     "metadata": {},
     "output_type": "execute_result"
    }
   ],
   "source": [
    "df['certificate'].unique()"
   ]
  },
  {
   "cell_type": "code",
   "execution_count": 53,
   "id": "eda9e112-4bd4-4ea1-9f2d-60f7cbc8aef6",
   "metadata": {},
   "outputs": [],
   "source": [
    "df.drop(columns=['lister-item-index'],inplace=True)"
   ]
  },
  {
   "cell_type": "code",
   "execution_count": 54,
   "id": "6cf99f72-be0b-4f8a-82c2-d0a42fd9fcf9",
   "metadata": {},
   "outputs": [
    {
     "data": {
      "text/html": [
       "<div>\n",
       "<style scoped>\n",
       "    .dataframe tbody tr th:only-of-type {\n",
       "        vertical-align: middle;\n",
       "    }\n",
       "\n",
       "    .dataframe tbody tr th {\n",
       "        vertical-align: top;\n",
       "    }\n",
       "\n",
       "    .dataframe thead th {\n",
       "        text-align: right;\n",
       "    }\n",
       "</style>\n",
       "<table border=\"1\" class=\"dataframe\">\n",
       "  <thead>\n",
       "    <tr style=\"text-align: right;\">\n",
       "      <th></th>\n",
       "      <th>rating</th>\n",
       "    </tr>\n",
       "  </thead>\n",
       "  <tbody>\n",
       "    <tr>\n",
       "      <th>count</th>\n",
       "      <td>80.00000</td>\n",
       "    </tr>\n",
       "    <tr>\n",
       "      <th>mean</th>\n",
       "      <td>7.72000</td>\n",
       "    </tr>\n",
       "    <tr>\n",
       "      <th>std</th>\n",
       "      <td>0.71235</td>\n",
       "    </tr>\n",
       "    <tr>\n",
       "      <th>min</th>\n",
       "      <td>5.90000</td>\n",
       "    </tr>\n",
       "    <tr>\n",
       "      <th>25%</th>\n",
       "      <td>7.20000</td>\n",
       "    </tr>\n",
       "    <tr>\n",
       "      <th>50%</th>\n",
       "      <td>7.80000</td>\n",
       "    </tr>\n",
       "    <tr>\n",
       "      <th>75%</th>\n",
       "      <td>8.22500</td>\n",
       "    </tr>\n",
       "    <tr>\n",
       "      <th>max</th>\n",
       "      <td>8.80000</td>\n",
       "    </tr>\n",
       "  </tbody>\n",
       "</table>\n",
       "</div>"
      ],
      "text/plain": [
       "         rating\n",
       "count  80.00000\n",
       "mean    7.72000\n",
       "std     0.71235\n",
       "min     5.90000\n",
       "25%     7.20000\n",
       "50%     7.80000\n",
       "75%     8.22500\n",
       "max     8.80000"
      ]
     },
     "execution_count": 54,
     "metadata": {},
     "output_type": "execute_result"
    }
   ],
   "source": [
    "df.describe()"
   ]
  },
  {
   "cell_type": "code",
   "execution_count": 55,
   "id": "24dcde21-d528-4019-abb9-cf3fe7314be7",
   "metadata": {},
   "outputs": [
    {
     "data": {
      "text/html": [
       "<div>\n",
       "<style scoped>\n",
       "    .dataframe tbody tr th:only-of-type {\n",
       "        vertical-align: middle;\n",
       "    }\n",
       "\n",
       "    .dataframe tbody tr th {\n",
       "        vertical-align: top;\n",
       "    }\n",
       "\n",
       "    .dataframe thead th {\n",
       "        text-align: right;\n",
       "    }\n",
       "</style>\n",
       "<table border=\"1\" class=\"dataframe\">\n",
       "  <thead>\n",
       "    <tr style=\"text-align: right;\">\n",
       "      <th></th>\n",
       "      <th>index</th>\n",
       "      <th>rating</th>\n",
       "    </tr>\n",
       "  </thead>\n",
       "  <tbody>\n",
       "    <tr>\n",
       "      <th>0</th>\n",
       "      <td>sum</td>\n",
       "      <td>617.60</td>\n",
       "    </tr>\n",
       "    <tr>\n",
       "      <th>1</th>\n",
       "      <td>mean</td>\n",
       "      <td>7.72</td>\n",
       "    </tr>\n",
       "    <tr>\n",
       "      <th>2</th>\n",
       "      <td>max</td>\n",
       "      <td>8.80</td>\n",
       "    </tr>\n",
       "    <tr>\n",
       "      <th>3</th>\n",
       "      <td>min</td>\n",
       "      <td>5.90</td>\n",
       "    </tr>\n",
       "  </tbody>\n",
       "</table>\n",
       "</div>"
      ],
      "text/plain": [
       "  index  rating\n",
       "0   sum  617.60\n",
       "1  mean    7.72\n",
       "2   max    8.80\n",
       "3   min    5.90"
      ]
     },
     "execution_count": 55,
     "metadata": {},
     "output_type": "execute_result"
    }
   ],
   "source": [
    "df['rating'].aggregate(['sum', 'mean','max','min']).reset_index()"
   ]
  },
  {
   "cell_type": "code",
   "execution_count": 56,
   "id": "33fce296-864f-4ccd-a38d-81861c1ee778",
   "metadata": {},
   "outputs": [
    {
     "data": {
      "text/plain": [
       "Index(['lister-item-header', 'certificate', 'runtime', 'genre', 'rating',\n",
       "       'votes'],\n",
       "      dtype='object')"
      ]
     },
     "execution_count": 56,
     "metadata": {},
     "output_type": "execute_result"
    }
   ],
   "source": [
    "df.columns"
   ]
  },
  {
   "cell_type": "code",
   "execution_count": 57,
   "id": "196d39d5-4eed-47b4-a9dd-daccd2406346",
   "metadata": {},
   "outputs": [
    {
     "data": {
      "text/plain": [
       "certificate\n",
       "15    53\n",
       "18    20\n",
       "12     4\n",
       "PG     3\n",
       "Name: count, dtype: int64"
      ]
     },
     "execution_count": 57,
     "metadata": {},
     "output_type": "execute_result"
    }
   ],
   "source": [
    "df['certificate'].value_counts()"
   ]
  },
  {
   "cell_type": "code",
   "execution_count": 58,
   "id": "764df1f4-8ab3-4863-b0e0-5de34e4b1065",
   "metadata": {},
   "outputs": [
    {
     "data": {
      "image/png": "[encoded data removed]",
      "text/plain": [
       "<Figure size 640x480 with 1 Axes>"
      ]
     },
     "metadata": {},
     "output_type": "display_data"
    }
   ],
   "source": [
    "cert_uniq=df['certificate'].unique()\n",
    "cert_counts=df['certificate'].value_counts()\n",
    "\n",
    "cert_counts.plot(kind='bar',color='pink')\n",
    "plt.title('Distribution of Certificates')\n",
    "plt.xlabel('Certificates')\n",
    "plt.ylabel('Frequencies')\n",
    "plt.xticks(rotation=20)\n",
    "plt.grid(axis=\"y\", linestyle = \"--\",alpha=1)\n",
    "\n",
    "plt.show()"
   ]
  },
  {
   "cell_type": "code",
   "execution_count": 59,
   "id": "783d1575-c7e8-45e9-8e81-25f1b9da9688",
   "metadata": {},
   "outputs": [
    {
     "data": {
      "text/plain": [
       "count         80\n",
       "unique        27\n",
       "top       60 min\n",
       "freq          25\n",
       "Name: runtime, dtype: object"
      ]
     },
     "execution_count": 59,
     "metadata": {},
     "output_type": "execute_result"
    }
   ],
   "source": [
    "df['runtime'].describe()"
   ]
  },
  {
   "cell_type": "code",
   "execution_count": 8,
   "id": "46a7c841-e68c-4158-a171-d523c7d85bf6",
   "metadata": {},
   "outputs": [
    {
     "data": {
      "image/png": "[encoded data removed]",
      "text/plain": [
       "<Figure size 1000x600 with 1 Axes>"
      ]
     },
     "metadata": {},
     "output_type": "display_data"
    }
   ],
   "source": [
    "import warnings\n",
    "# Ignore all warnings\n",
    "warnings.filterwarnings(\"ignore\")\n",
    "plt.figure(figsize=(10, 6))\n",
    "sns.histplot(df['runtime'], bins=30, color='skyblue',kde=True, edgecolor='black')\n",
    "plt.title('Distribution of Movie Runtimes')\n",
    "plt.xlabel('Runtime (minutes)')\n",
    "plt.ylabel('Frequency')\n",
    "plt.xticks(rotation=45)\n",
    "plt.grid(axis='y', linestyle='--', alpha=0.7)\n",
    "plt.show()\n"
   ]
  },
  {
   "cell_type": "code",
   "execution_count": 10,
   "id": "5f473974-1a18-4a71-8e94-6477ab91d4fd",
   "metadata": {},
   "outputs": [
    {
     "data": {
      "text/html": [
       "<div>\n",
       "<style scoped>\n",
       "    .dataframe tbody tr th:only-of-type {\n",
       "        vertical-align: middle;\n",
       "    }\n",
       "\n",
       "    .dataframe tbody tr th {\n",
       "        vertical-align: top;\n",
       "    }\n",
       "\n",
       "    .dataframe thead th {\n",
       "        text-align: right;\n",
       "    }\n",
       "</style>\n",
       "<table border=\"1\" class=\"dataframe\">\n",
       "  <thead>\n",
       "    <tr style=\"text-align: right;\">\n",
       "      <th></th>\n",
       "      <th>genre</th>\n",
       "      <th>count</th>\n",
       "    </tr>\n",
       "  </thead>\n",
       "  <tbody>\n",
       "    <tr>\n",
       "      <th>0</th>\n",
       "      <td>Comedy, Drama</td>\n",
       "      <td>8</td>\n",
       "    </tr>\n",
       "    <tr>\n",
       "      <th>1</th>\n",
       "      <td>Drama, Mystery, Sci-Fi</td>\n",
       "      <td>5</td>\n",
       "    </tr>\n",
       "    <tr>\n",
       "      <th>2</th>\n",
       "      <td>Action, Crime, Drama</td>\n",
       "      <td>5</td>\n",
       "    </tr>\n",
       "    <tr>\n",
       "      <th>3</th>\n",
       "      <td>Drama, Fantasy, Horror</td>\n",
       "      <td>4</td>\n",
       "    </tr>\n",
       "    <tr>\n",
       "      <th>4</th>\n",
       "      <td>Comedy</td>\n",
       "      <td>4</td>\n",
       "    </tr>\n",
       "    <tr>\n",
       "      <th>5</th>\n",
       "      <td>Crime, Drama, Mystery</td>\n",
       "      <td>4</td>\n",
       "    </tr>\n",
       "    <tr>\n",
       "      <th>6</th>\n",
       "      <td>Comedy, Crime, Drama</td>\n",
       "      <td>3</td>\n",
       "    </tr>\n",
       "    <tr>\n",
       "      <th>7</th>\n",
       "      <td>Drama</td>\n",
       "      <td>3</td>\n",
       "    </tr>\n",
       "    <tr>\n",
       "      <th>8</th>\n",
       "      <td>Action, Adventure, Crime</td>\n",
       "      <td>2</td>\n",
       "    </tr>\n",
       "    <tr>\n",
       "      <th>9</th>\n",
       "      <td>Action, Adventure, Drama</td>\n",
       "      <td>2</td>\n",
       "    </tr>\n",
       "    <tr>\n",
       "      <th>10</th>\n",
       "      <td>Animation, Comedy, Drama</td>\n",
       "      <td>2</td>\n",
       "    </tr>\n",
       "    <tr>\n",
       "      <th>11</th>\n",
       "      <td>Animation, Action, Adventure</td>\n",
       "      <td>2</td>\n",
       "    </tr>\n",
       "    <tr>\n",
       "      <th>12</th>\n",
       "      <td>Adventure, Comedy, Drama</td>\n",
       "      <td>2</td>\n",
       "    </tr>\n",
       "    <tr>\n",
       "      <th>13</th>\n",
       "      <td>Action, Drama, Sci-Fi</td>\n",
       "      <td>2</td>\n",
       "    </tr>\n",
       "    <tr>\n",
       "      <th>14</th>\n",
       "      <td>Crime, Drama, Thriller</td>\n",
       "      <td>2</td>\n",
       "    </tr>\n",
       "    <tr>\n",
       "      <th>15</th>\n",
       "      <td>Comedy, Drama, Romance</td>\n",
       "      <td>2</td>\n",
       "    </tr>\n",
       "    <tr>\n",
       "      <th>16</th>\n",
       "      <td>Action, Adventure, Comedy</td>\n",
       "      <td>1</td>\n",
       "    </tr>\n",
       "    <tr>\n",
       "      <th>17</th>\n",
       "      <td>Comedy, Drama, Sci-Fi</td>\n",
       "      <td>1</td>\n",
       "    </tr>\n",
       "    <tr>\n",
       "      <th>18</th>\n",
       "      <td>Crime, Drama, Horror</td>\n",
       "      <td>1</td>\n",
       "    </tr>\n",
       "    <tr>\n",
       "      <th>19</th>\n",
       "      <td>Drama, Music, Musical</td>\n",
       "      <td>1</td>\n",
       "    </tr>\n",
       "    <tr>\n",
       "      <th>20</th>\n",
       "      <td>Drama, Thriller</td>\n",
       "      <td>1</td>\n",
       "    </tr>\n",
       "    <tr>\n",
       "      <th>21</th>\n",
       "      <td>Documentary, Crime</td>\n",
       "      <td>1</td>\n",
       "    </tr>\n",
       "    <tr>\n",
       "      <th>22</th>\n",
       "      <td>Comedy, Drama, Sport</td>\n",
       "      <td>1</td>\n",
       "    </tr>\n",
       "    <tr>\n",
       "      <th>23</th>\n",
       "      <td>Comedy, Romance</td>\n",
       "      <td>1</td>\n",
       "    </tr>\n",
       "    <tr>\n",
       "      <th>24</th>\n",
       "      <td>Crime, Drama</td>\n",
       "      <td>1</td>\n",
       "    </tr>\n",
       "    <tr>\n",
       "      <th>25</th>\n",
       "      <td>Comedy, Drama, Family</td>\n",
       "      <td>1</td>\n",
       "    </tr>\n",
       "    <tr>\n",
       "      <th>26</th>\n",
       "      <td>Game-Show, Reality-TV</td>\n",
       "      <td>1</td>\n",
       "    </tr>\n",
       "    <tr>\n",
       "      <th>27</th>\n",
       "      <td>Animation, Short, Action</td>\n",
       "      <td>1</td>\n",
       "    </tr>\n",
       "    <tr>\n",
       "      <th>28</th>\n",
       "      <td>Crime, Drama, Fantasy</td>\n",
       "      <td>1</td>\n",
       "    </tr>\n",
       "    <tr>\n",
       "      <th>29</th>\n",
       "      <td>Comedy, Drama, Mystery</td>\n",
       "      <td>1</td>\n",
       "    </tr>\n",
       "    <tr>\n",
       "      <th>30</th>\n",
       "      <td>Action, Drama, History</td>\n",
       "      <td>1</td>\n",
       "    </tr>\n",
       "    <tr>\n",
       "      <th>31</th>\n",
       "      <td>Drama, Fantasy, Mystery</td>\n",
       "      <td>1</td>\n",
       "    </tr>\n",
       "    <tr>\n",
       "      <th>32</th>\n",
       "      <td>Adventure, Drama, Family</td>\n",
       "      <td>1</td>\n",
       "    </tr>\n",
       "    <tr>\n",
       "      <th>33</th>\n",
       "      <td>Biography, Crime, Drama</td>\n",
       "      <td>1</td>\n",
       "    </tr>\n",
       "    <tr>\n",
       "      <th>34</th>\n",
       "      <td>Adventure, Comedy, Crime</td>\n",
       "      <td>1</td>\n",
       "    </tr>\n",
       "    <tr>\n",
       "      <th>35</th>\n",
       "      <td>Comedy, Horror</td>\n",
       "      <td>1</td>\n",
       "    </tr>\n",
       "    <tr>\n",
       "      <th>36</th>\n",
       "      <td>Drama, Horror, Mystery</td>\n",
       "      <td>1</td>\n",
       "    </tr>\n",
       "    <tr>\n",
       "      <th>37</th>\n",
       "      <td>Drama, Mystery, Thriller</td>\n",
       "      <td>1</td>\n",
       "    </tr>\n",
       "    <tr>\n",
       "      <th>38</th>\n",
       "      <td>Comedy, Drama, Thriller</td>\n",
       "      <td>1</td>\n",
       "    </tr>\n",
       "    <tr>\n",
       "      <th>39</th>\n",
       "      <td>Biography, Drama, History</td>\n",
       "      <td>1</td>\n",
       "    </tr>\n",
       "    <tr>\n",
       "      <th>40</th>\n",
       "      <td>Drama, Sci-Fi, Thriller</td>\n",
       "      <td>1</td>\n",
       "    </tr>\n",
       "    <tr>\n",
       "      <th>41</th>\n",
       "      <td>Animation, Comedy, Romance</td>\n",
       "      <td>1</td>\n",
       "    </tr>\n",
       "    <tr>\n",
       "      <th>42</th>\n",
       "      <td>Crime, Drama, Romance</td>\n",
       "      <td>1</td>\n",
       "    </tr>\n",
       "    <tr>\n",
       "      <th>43</th>\n",
       "      <td>Comedy, Drama, Western</td>\n",
       "      <td>1</td>\n",
       "    </tr>\n",
       "  </tbody>\n",
       "</table>\n",
       "</div>"
      ],
      "text/plain": [
       "                           genre  count\n",
       "0                  Comedy, Drama      8\n",
       "1         Drama, Mystery, Sci-Fi      5\n",
       "2           Action, Crime, Drama      5\n",
       "3         Drama, Fantasy, Horror      4\n",
       "4                         Comedy      4\n",
       "5          Crime, Drama, Mystery      4\n",
       "6           Comedy, Crime, Drama      3\n",
       "7                          Drama      3\n",
       "8       Action, Adventure, Crime      2\n",
       "9       Action, Adventure, Drama      2\n",
       "10      Animation, Comedy, Drama      2\n",
       "11  Animation, Action, Adventure      2\n",
       "12      Adventure, Comedy, Drama      2\n",
       "13         Action, Drama, Sci-Fi      2\n",
       "14        Crime, Drama, Thriller      2\n",
       "15        Comedy, Drama, Romance      2\n",
       "16     Action, Adventure, Comedy      1\n",
       "17         Comedy, Drama, Sci-Fi      1\n",
       "18          Crime, Drama, Horror      1\n",
       "19         Drama, Music, Musical      1\n",
       "20               Drama, Thriller      1\n",
       "21            Documentary, Crime      1\n",
       "22          Comedy, Drama, Sport      1\n",
       "23               Comedy, Romance      1\n",
       "24                  Crime, Drama      1\n",
       "25         Comedy, Drama, Family      1\n",
       "26         Game-Show, Reality-TV      1\n",
       "27      Animation, Short, Action      1\n",
       "28         Crime, Drama, Fantasy      1\n",
       "29        Comedy, Drama, Mystery      1\n",
       "30        Action, Drama, History      1\n",
       "31       Drama, Fantasy, Mystery      1\n",
       "32      Adventure, Drama, Family      1\n",
       "33       Biography, Crime, Drama      1\n",
       "34      Adventure, Comedy, Crime      1\n",
       "35                Comedy, Horror      1\n",
       "36        Drama, Horror, Mystery      1\n",
       "37      Drama, Mystery, Thriller      1\n",
       "38       Comedy, Drama, Thriller      1\n",
       "39     Biography, Drama, History      1\n",
       "40       Drama, Sci-Fi, Thriller      1\n",
       "41    Animation, Comedy, Romance      1\n",
       "42         Crime, Drama, Romance      1\n",
       "43        Comedy, Drama, Western      1"
      ]
     },
     "execution_count": 10,
     "metadata": {},
     "output_type": "execute_result"
    }
   ],
   "source": [
    "df['genre'].value_counts().reset_index()"
   ]
  },
  {
   "cell_type": "code",
   "execution_count": 12,
   "id": "54a36dfe-ace4-4f7b-b4dd-83754157f467",
   "metadata": {},
   "outputs": [],
   "source": [
    "top10_genre=(df['genre'].value_counts()).head(10)"
   ]
  },
  {
   "cell_type": "code",
   "execution_count": 13,
   "id": "78967fb6-dd35-4f7c-a819-6fb956dd42ec",
   "metadata": {},
   "outputs": [
    {
     "data": {
      "image/png": "[encoded data removed]",
      "text/plain": [
       "<Figure size 1000x600 with 1 Axes>"
      ]
     },
     "metadata": {},
     "output_type": "display_data"
    }
   ],
   "source": [
    "plt.figure(figsize=(10,6))\n",
    "plt.bar(top10_genre.index,(df['genre'].value_counts()).head(10))\n",
    "plt.xlabel('Genre')\n",
    "plt.ylabel('Count')\n",
    "plt.title('Top 10 Movie Genres')\n",
    "plt.xticks(rotation=45)\n",
    "plt.show()\n"
   ]
  },
  {
   "cell_type": "code",
   "execution_count": 14,
   "id": "551214b7-6542-46b9-adb0-2ccea1f80418",
   "metadata": {},
   "outputs": [
    {
     "name": "stdout",
     "output_type": "stream",
     "text": [
      "Most Voted Movie\n",
      " lister-item-header    Stranger Things\n",
      "votes                       1,327,188\n",
      "Name: 0, dtype: object\n",
      "  \n",
      "Least Voted Movie:\n",
      " lister-item-header    Dead to Me\n",
      "votes                     99,440\n",
      "Name: 78, dtype: object\n"
     ]
    }
   ],
   "source": [
    "least_voted = df.loc[df['votes'].idxmax()]\n",
    "most_voted = df.loc[df['votes'].idxmin()]\n",
    "print(\"Most Voted Movie\\n\",most_voted[['lister-item-header', 'votes']])\n",
    "print(\"  \")\n",
    "print(\"Least Voted Movie:\\n\",least_voted[['lister-item-header', 'votes']])"
   ]
  },
  {
   "cell_type": "code",
   "execution_count": 15,
   "id": "de90793b-1b05-4d44-89b1-4d5fed6f8739",
   "metadata": {},
   "outputs": [
    {
     "data": {
      "text/plain": [
       "lister-item-index                     79.0\n",
       "lister-item-header              Dead to Me\n",
       "certificate                             15\n",
       "runtime                             30 min\n",
       "genre                 Comedy, Crime, Drama\n",
       "rating                                 7.9\n",
       "votes                               99,440\n",
       "Name: 78, dtype: object"
      ]
     },
     "execution_count": 15,
     "metadata": {},
     "output_type": "execute_result"
    }
   ],
   "source": [
    "least_voted"
   ]
  },
  {
   "cell_type": "code",
   "execution_count": 16,
   "id": "659f5474-8fed-4e31-ac3f-190b6595dbf5",
   "metadata": {},
   "outputs": [
    {
     "data": {
      "text/plain": [
       "lister-item-index                        1.0\n",
       "lister-item-header           Stranger Things\n",
       "certificate                               15\n",
       "runtime                               60 min\n",
       "genre                 Drama, Fantasy, Horror\n",
       "rating                                   8.7\n",
       "votes                              1,327,188\n",
       "Name: 0, dtype: object"
      ]
     },
     "execution_count": 16,
     "metadata": {},
     "output_type": "execute_result"
    }
   ],
   "source": [
    "most_voted"
   ]
  },
  {
   "cell_type": "code",
   "execution_count": 17,
   "id": "15213a80-745a-4163-9a30-018f9e6b0597",
   "metadata": {},
   "outputs": [],
   "source": [
    "least_rating_movie = df.loc[df['rating'].idxmax()]\n",
    "most_rating_movie = df.loc[df['rating'].idxmin()]"
   ]
  },
  {
   "cell_type": "code",
   "execution_count": 18,
   "id": "646316c0-23e7-42ae-bd6c-afa1461275c3",
   "metadata": {},
   "outputs": [
    {
     "data": {
      "text/plain": [
       "lister-item-index                         7.0\n",
       "lister-item-header                     Narcos\n",
       "certificate                                15\n",
       "runtime                                50 min\n",
       "genre                 Biography, Crime, Drama\n",
       "rating                                    8.8\n",
       "votes                                 467,909\n",
       "Name: 6, dtype: object"
      ]
     },
     "execution_count": 18,
     "metadata": {},
     "output_type": "execute_result"
    }
   ],
   "source": [
    "least_rating_movie"
   ]
  },
  {
   "cell_type": "code",
   "execution_count": 21,
   "id": "9ff707f7-55d7-45e8-aea7-c507c73ebeae",
   "metadata": {},
   "outputs": [
    {
     "data": {
      "text/plain": [
       "lister-item-index                       66.0\n",
       "lister-item-header                   Between\n",
       "certificate                               15\n",
       "runtime                               60 min\n",
       "genre                 Drama, Mystery, Sci-Fi\n",
       "rating                                   5.9\n",
       "votes                                  9,906\n",
       "Name: 65, dtype: object"
      ]
     },
     "execution_count": 21,
     "metadata": {},
     "output_type": "execute_result"
    }
   ],
   "source": [
    "most_rating_movie"
   ]
  },
  {
   "cell_type": "code",
   "execution_count": 19,
   "id": "30149ae4-b6d6-4607-aa7c-5111cc853628",
   "metadata": {},
   "outputs": [
    {
     "data": {
      "text/plain": [
       "lister-item-index                      57.0\n",
       "lister-item-header       RuPaul's Drag Race\n",
       "certificate                              15\n",
       "runtime                              63 min\n",
       "genre                 Game-Show, Reality-TV\n",
       "rating                                  8.5\n",
       "votes                                23,189\n",
       "Name: 56, dtype: object"
      ]
     },
     "execution_count": 19,
     "metadata": {},
     "output_type": "execute_result"
    }
   ],
   "source": [
    "df.loc[df['runtime'].idxmax()]"
   ]
  },
  {
   "cell_type": "code",
   "execution_count": 20,
   "id": "f091aef7-9bd1-45b8-9d15-43094ea6cefa",
   "metadata": {},
   "outputs": [
    {
     "data": {
      "text/plain": [
       "lister-item-index                               28.0\n",
       "lister-item-header    A Series of Unfortunate Events\n",
       "certificate                                       PG\n",
       "runtime                                    1,164 min\n",
       "genre                       Adventure, Comedy, Drama\n",
       "rating                                           7.7\n",
       "votes                                         66,482\n",
       "Name: 27, dtype: object"
      ]
     },
     "execution_count": 20,
     "metadata": {},
     "output_type": "execute_result"
    }
   ],
   "source": [
    "df.loc[df['runtime'].idxmin()]"
   ]
  }
 ],
 "metadata": {
  "kernelspec": {
   "display_name": "Python 3 (ipykernel)",
   "language": "python",
   "name": "python3"
  },
  "language_info": {
   "codemirror_mode": {
    "name": "ipython",
    "version": 3
   },
   "file_extension": ".py",
   "mimetype": "text/x-python",
   "name": "python",
   "nbconvert_exporter": "python",
   "pygments_lexer": "ipython3",
   "version": "3.11.7"
  }
 },
 "nbformat": 4,
 "nbformat_minor": 5
}
